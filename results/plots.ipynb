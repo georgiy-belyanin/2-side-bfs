{
 "cells": [
  {
   "cell_type": "code",
   "execution_count": null,
   "id": "53e8ac73",
   "metadata": {},
   "outputs": [],
   "source": [
    "RESULTS_PATH = '../results/'\n",
    "LOC_TITLES = ['Все случаи', 'Путь существует', 'Путь не существует']\n",
    "TITLES = ['all', 'path-exists', 'not-exists']\n",
    "COLORS = ['#0000FF', '#00FF00', '#FFFF00', '#FF00FF', '#FFFF00', '#AAAAAA', '#FF8800', '#88FF00', '#8800FF', '#FF0088']"
   ]
  },
  {
   "cell_type": "code",
   "execution_count": null,
   "id": "9deea44e",
   "metadata": {},
   "outputs": [],
   "source": [
    "from os import scandir\n",
    "\n",
    "datasets = {}\n",
    "\n",
    "for entry in scandir(RESULTS_PATH):\n",
    "    if not entry.is_file() or entry.path[-3:] != 'txt':\n",
    "        continue\n",
    "    name = entry.name[:-4]\n",
    "    with open(entry.path, 'r') as f:\n",
    "        for i in f:\n",
    "            if name not in datasets:\n",
    "                datasets[name] = []\n",
    "            datasets[name].append([float(j.strip()) for j in i.split(',') if len(j.strip()) > 0])"
   ]
  },
  {
   "cell_type": "code",
   "execution_count": null,
   "id": "29db1263",
   "metadata": {
    "scrolled": false
   },
   "outputs": [],
   "source": [
    "# Import libraries\n",
    "import matplotlib.pyplot as plt\n",
    "import numpy as np\n",
    "\n",
    "for q in range(3):\n",
    "    data = [datasets[i][q] for i in sorted(datasets.keys()) if q < len(datasets[i])]\n",
    "    labels = [f'N = {i}' for i in sorted(datasets.keys()) if q < len(datasets[i])]\n",
    "\n",
    "    fig = plt.figure(figsize =(10, 3))\n",
    "    ax = fig.add_subplot(111)\n",
    "\n",
    "    # Creating axes instance\n",
    "    bp = ax.boxplot(data, patch_artist = True,\n",
    "                     vert = 0, showmeans=True)\n",
    "\n",
    "    for patch, color in zip(bp['boxes'], COLORS):\n",
    "        patch.set_facecolor(color)\n",
    "    for whisker in bp['whiskers']:\n",
    "        whisker.set(color ='#111111',\n",
    "                    linewidth = 1.5,\n",
    "                    linestyle =\":\")\n",
    "    for cap in bp['caps']:\n",
    "        cap.set(color ='#000000',\n",
    "                linewidth = 2)\n",
    "    for median in bp['medians']:\n",
    "        median.set(color ='black',\n",
    "                   linewidth = 3)\n",
    "    ax.set_yticklabels(labels)\n",
    "    ax.get_xaxis().tick_bottom()\n",
    "    ax.get_yaxis().tick_left()\n",
    "    ax.set_xscale('log')\n",
    "    ax.set_xlabel(f'{LOC_TITLES[q]}, время, мс')\n",
    "    plt.grid()\n",
    "    plt.gcf().subplots_adjust(bottom=0.15)\n",
    "    plt.savefig(f'{TITLES[q]}.png', dpi=500)\n",
    "    plt.show()\n"
   ]
  },
  {
   "cell_type": "code",
   "execution_count": null,
   "id": "89ed2af1",
   "metadata": {},
   "outputs": [],
   "source": []
  },
  {
   "cell_type": "code",
   "execution_count": null,
   "id": "7dbe3ad1",
   "metadata": {},
   "outputs": [],
   "source": []
  }
 ],
 "metadata": {
  "kernelspec": {
   "display_name": "Python 3 (ipykernel)",
   "language": "python",
   "name": "python3"
  },
  "language_info": {
   "codemirror_mode": {
    "name": "ipython",
    "version": 3
   },
   "file_extension": ".py",
   "mimetype": "text/x-python",
   "name": "python",
   "nbconvert_exporter": "python",
   "pygments_lexer": "ipython3",
   "version": "3.10.12"
  }
 },
 "nbformat": 4,
 "nbformat_minor": 5
}
